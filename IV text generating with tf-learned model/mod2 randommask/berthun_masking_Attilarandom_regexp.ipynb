{
 "cells": [
  {
   "cell_type": "markdown",
   "metadata": {
    "id": "-2qG_k1MjV9W"
   },
   "source": [
    "Load your pretrained model"
   ]
  },
  {
   "cell_type": "code",
   "execution_count": null,
   "metadata": {
    "id": "CyTqe8KA0HCM"
   },
   "outputs": [],
   "source": [
    "from transformers import BertTokenizer, BertForMaskedLM\n",
    "#from torch.nn import functional as F\n",
    "#import torch\n",
    "\n",
    "# #a szavak tokenizálója\n",
    "tokenizer = BertTokenizer.from_pretrained(\"SZTAKI-HLT/hubert-base-cc\")\n",
    "#model = BertForMaskedLM.from_pretrained(\"SZTAKI-HLT/hubert-base-cc\") #comment out if you are yousing your model!!"
   ]
  },
  {
   "cell_type": "code",
   "execution_count": null,
   "metadata": {
    "id": "XzCYfYhojbMW"
   },
   "outputs": [],
   "source": [
    "PATH = \"betanitas 8 25 epoch 64 batch mondat\"\n",
    "\n",
    "from transformers import pipeline\n",
    "\n",
    "fill_mask = pipeline(\n",
    "    \"fill-mask\",\n",
    "    #model=\"/content/drive/MyDrive/12 epoch model/\",\n",
    "    model=BertForMaskedLM.from_pretrained(PATH,local_files_only=True), #load your model!!!\n",
    "    tokenizer=BertTokenizer.from_pretrained(\"SZTAKI-HLT/hubert-base-cc\",local_files_only=False)\n",
    ")"
   ]
  },
  {
   "cell_type": "code",
   "execution_count": null,
   "metadata": {
    "id": "kRzCIw0njqoh"
   },
   "outputs": [],
   "source": []
  },
  {
   "cell_type": "markdown",
   "metadata": {
    "id": "rZlcQdhvabwR"
   },
   "source": [
    "**The algorithm** - random master"
   ]
  },
  {
   "cell_type": "markdown",
   "metadata": {
    "id": "VFU2HpVlaePR"
   },
   "source": [
    "Iterate on a sentence masking one word at a time and predicting one of the 5 most likely words, then continue the iteration with that sentence (one word potentially swapped)."
   ]
  },
  {
   "cell_type": "code",
   "execution_count": null,
   "metadata": {
    "id": "H9ygHcjTkvQP"
   },
   "outputs": [],
   "source": []
  },
  {
   "cell_type": "code",
   "execution_count": null,
   "metadata": {
    "id": "zcDNtwMrj9qG"
   },
   "outputs": [],
   "source": [
    "# a generálómappa elérési útja\n",
    "genetaringfolderpath='./' #figyelem per jel!!\n",
    "#genetaringfolderpath='/content/drive/MyDrive/PyNLP/'"
   ]
  },
  {
   "cell_type": "code",
   "execution_count": null,
   "metadata": {
    "id": "XDN-GJlxkvn3"
   },
   "outputs": [],
   "source": [
    "#a bemeneti szöveg betöltése\n",
    "with open(genetaringfolderpath+'bemeneti_es_randomizalt_szoveg.txt') as file_in:\n",
    "    text = file_in.read()"
   ]
  },
  {
   "cell_type": "code",
   "execution_count": null,
   "metadata": {
    "id": "eiSXU-d3LnXi"
   },
   "outputs": [],
   "source": [
    "#a csuszoablak szamlalaojanak betoltese\n",
    "with open(genetaringfolderpath+'csuszoablak_counter.txt') as file_in_k:\n",
    "    k = file_in_k.read()\n",
    "k=int(k)\n",
    "print(k)"
   ]
  },
  {
   "cell_type": "code",
   "execution_count": null,
   "metadata": {
    "id": "CWROsv4_l7Gx"
   },
   "outputs": [],
   "source": [
    "text"
   ]
  },
  {
   "cell_type": "code",
   "execution_count": null,
   "metadata": {
    "id": "peBIMlx3kU_h"
   },
   "outputs": [],
   "source": []
  },
  {
   "cell_type": "markdown",
   "metadata": {
    "id": "7Y-FOub6j99_"
   },
   "source": [
    "Parameters"
   ]
  },
  {
   "cell_type": "code",
   "execution_count": null,
   "metadata": {
    "id": "FwBs7RRGj8Jv"
   },
   "outputs": [],
   "source": [
    "random_pred_parameter=20\n",
    "#goal_masked_words=len(text.split())/2 #random cserélgetünk, átlagban minden 2. szót\n",
    "\n",
    "# tokens or words we don't want in our generated sentences\n",
    "excluded_words = ['[ P A D ]', '[ U N K ]', ';', '.', ':', '?', '!', ',', '\"', '#', '$', '[', ']', '%', '&', '(', ')', '*', '+', '-', '/', '0',  '1', '2', '3', '4', '5', '6', '7', '8', '9', '<', '=', '>', '<', '”', '«', '»', '–', '“', '„', ] "
   ]
  },
  {
   "cell_type": "code",
   "execution_count": null,
   "metadata": {
    "id": "x1dcz86Qc5HZ"
   },
   "outputs": [],
   "source": [
    "import random"
   ]
  },
  {
   "cell_type": "code",
   "execution_count": null,
   "metadata": {
    "id": "nPkexncQeRH3"
   },
   "outputs": [],
   "source": [
    "def modify_text(sentence, exc_words, n_iter, prob=0, random_pred_parameter=20):\n",
    "  #sentence: the text to modify, generate from\n",
    "  #exc_words: words, tokens we want to avoid when generating the new texts\n",
    "  #n_iter: how many times we want to swap tokens\n",
    "  #prob: in each iteration we add a mask token at the end of the sentence with this probability\n",
    "  #all_sentences = [sentence] #saving all the generated sentences in the process\n",
    "\n",
    "  while n_iter > 0:\n",
    "\n",
    "    sentence_words = sentence.split()\n",
    "    sentence_words[random.choice(range(len(sentence_words)))] = tokenizer.mask_token\n",
    "    masked_sentence = \" \".join(sentence_words)\n",
    "    chosen_sentence = fill_mask(masked_sentence, top_k=random_pred_parameter)[random.choice(range(random_pred_parameter))]\n",
    "\n",
    "    while chosen_sentence['token_str'] in excluded_words:\n",
    "      chosen_sentence = fill_mask(masked_sentence, top_k=random_pred_parameter)[random.choice(range(random_pred_parameter))]\n",
    "    sentence = chosen_sentence['sequence']\n",
    "    k = random.random()\n",
    "    if k < prob:\n",
    "      sentence = sentence + ' ' + tokenizer.mask_token\n",
    "      chosen_sentence = fill_mask(sentence, top_k=random_pred_parameter)[random.choice(range(random_pred_parameter))]\n",
    "\n",
    "      while bool([exclword for exclword in excluded_words if(exclword in a['token_str'])]):\n",
    "        chosen_sentence = fill_mask(sentence, top_k=random_pred_parameter)[random.choice(range(random_pred_parameter))]\n",
    "      sentence = chosen_sentence['sequence']\n",
    "    #all_sentences.append(sentence) # not yet returned by the function\n",
    "    n_iter -= 1\n",
    "  return str(sentence)"
   ]
  },
  {
   "cell_type": "markdown",
   "metadata": {
    "id": "B7Ha6RlxgY-T"
   },
   "source": [
    "Itt 64 szavasra vettem a szövegszakaszokat, mert a meglévő szöveg kevesebb mint 256 szó. De ez a szám átállítható 512-re"
   ]
  },
  {
   "cell_type": "code",
   "execution_count": null,
   "metadata": {
    "id": "OXiuhmGpVt2u"
   },
   "outputs": [],
   "source": [
    "n_iter=(128/2) #azaz az ablakon belül átag minden 2. szót letakarjuk random módon persze"
   ]
  },
  {
   "cell_type": "code",
   "execution_count": null,
   "metadata": {
    "id": "pXp6J292U51_"
   },
   "outputs": [],
   "source": [
    "input_len = len(text.split())\n",
    "while k<input_len/128:\n",
    "    text_2 = text.split()[k*128:(k+1)*128] #egyszerre mindig csak egy 64 szavas részleten futtatjuk a függvényt, majd ezt hozzáírjuk a kimenethez\n",
    "    text_2=\" \".join(text_2)\n",
    "    generated = modify_text(text_2, excluded_words, n_iter,random_pred_parameter=20)\n",
    "    with open(genetaringfolderpath+'randomizalt_kimenet.txt', 'a') as file_out:\n",
    "        file_out.write(generated)\n",
    "        file_out.write('.')\n",
    "    k+=1\n",
    "    with open(genetaringfolderpath+'csuszoablak_counter.txt', 'w') as file_out_k:\n",
    "        file_out_k.write(str(k))\n",
    "    print(\"progress :\")\n",
    "    print(k/(input_len/128))"
   ]
  },
  {
   "cell_type": "code",
   "execution_count": null,
   "metadata": {
    "id": "Voo7QCsKppRU"
   },
   "outputs": [],
   "source": [
    "input_len"
   ]
  },
  {
   "cell_type": "code",
   "execution_count": null,
   "metadata": {
    "id": "ifOG0RO1JZCd"
   },
   "outputs": [],
   "source": []
  }
 ],
 "metadata": {
  "colab": {
   "collapsed_sections": [],
   "name": "berthun_v12_v7_masking_Attilarandom_regexp__colabcompatible_orvos_model_11.ipynb",
   "provenance": []
  },
  "kernelspec": {
   "display_name": "Python 3",
   "language": "python",
   "name": "python3"
  },
  "language_info": {
   "codemirror_mode": {
    "name": "ipython",
    "version": 3
   },
   "file_extension": ".py",
   "mimetype": "text/x-python",
   "name": "python",
   "nbconvert_exporter": "python",
   "pygments_lexer": "ipython3",
   "version": "3.6.13"
  }
 },
 "nbformat": 4,
 "nbformat_minor": 1
}
