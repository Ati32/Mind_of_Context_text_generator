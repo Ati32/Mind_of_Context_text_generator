{
  "nbformat": 4,
  "nbformat_minor": 0,
  "metadata": {
    "colab": {
      "name": "berthun_v12_v4_masking_appendlast_letisztult_regexp.ipynb",
      "provenance": [],
      "collapsed_sections": []
    },
    "kernelspec": {
      "name": "python3",
      "display_name": "Python 3"
    },
    "language_info": {
      "name": "python"
    },
    "widgets": {
      "application/vnd.jupyter.widget-state+json": {
        "826a898ff835427492af497c73a3f2f9": {
          "model_module": "@jupyter-widgets/controls",
          "model_name": "HBoxModel",
          "state": {
            "_view_name": "HBoxView",
            "_dom_classes": [],
            "_model_name": "HBoxModel",
            "_view_module": "@jupyter-widgets/controls",
            "_model_module_version": "1.5.0",
            "_view_count": null,
            "_view_module_version": "1.5.0",
            "box_style": "",
            "layout": "IPY_MODEL_890edac7ad1847dbabaa03d2c4b23337",
            "_model_module": "@jupyter-widgets/controls",
            "children": [
              "IPY_MODEL_20c9c3d0c78140d4aaeeb97d9f2da9fa",
              "IPY_MODEL_88e17f41f7424a29aa6e16cfe738a499"
            ]
          }
        },
        "890edac7ad1847dbabaa03d2c4b23337": {
          "model_module": "@jupyter-widgets/base",
          "model_name": "LayoutModel",
          "state": {
            "_view_name": "LayoutView",
            "grid_template_rows": null,
            "right": null,
            "justify_content": null,
            "_view_module": "@jupyter-widgets/base",
            "overflow": null,
            "_model_module_version": "1.2.0",
            "_view_count": null,
            "flex_flow": null,
            "width": null,
            "min_width": null,
            "border": null,
            "align_items": null,
            "bottom": null,
            "_model_module": "@jupyter-widgets/base",
            "top": null,
            "grid_column": null,
            "overflow_y": null,
            "overflow_x": null,
            "grid_auto_flow": null,
            "grid_area": null,
            "grid_template_columns": null,
            "flex": null,
            "_model_name": "LayoutModel",
            "justify_items": null,
            "grid_row": null,
            "max_height": null,
            "align_content": null,
            "visibility": null,
            "align_self": null,
            "height": null,
            "min_height": null,
            "padding": null,
            "grid_auto_rows": null,
            "grid_gap": null,
            "max_width": null,
            "order": null,
            "_view_module_version": "1.2.0",
            "grid_template_areas": null,
            "object_position": null,
            "object_fit": null,
            "grid_auto_columns": null,
            "margin": null,
            "display": null,
            "left": null
          }
        },
        "20c9c3d0c78140d4aaeeb97d9f2da9fa": {
          "model_module": "@jupyter-widgets/controls",
          "model_name": "FloatProgressModel",
          "state": {
            "_view_name": "ProgressView",
            "style": "IPY_MODEL_cfe63e553f7848788c4503d6399fe1bc",
            "_dom_classes": [],
            "description": "Downloading: 100%",
            "_model_name": "FloatProgressModel",
            "bar_style": "success",
            "max": 272107,
            "_view_module": "@jupyter-widgets/controls",
            "_model_module_version": "1.5.0",
            "value": 272107,
            "_view_count": null,
            "_view_module_version": "1.5.0",
            "orientation": "horizontal",
            "min": 0,
            "description_tooltip": null,
            "_model_module": "@jupyter-widgets/controls",
            "layout": "IPY_MODEL_f227fa3025fd4baea84d1313b34ab3c2"
          }
        },
        "88e17f41f7424a29aa6e16cfe738a499": {
          "model_module": "@jupyter-widgets/controls",
          "model_name": "HTMLModel",
          "state": {
            "_view_name": "HTMLView",
            "style": "IPY_MODEL_663736e086c14491baa40d07c7d9bf65",
            "_dom_classes": [],
            "description": "",
            "_model_name": "HTMLModel",
            "placeholder": "​",
            "_view_module": "@jupyter-widgets/controls",
            "_model_module_version": "1.5.0",
            "value": " 272k/272k [00:02&lt;00:00, 124kB/s]",
            "_view_count": null,
            "_view_module_version": "1.5.0",
            "description_tooltip": null,
            "_model_module": "@jupyter-widgets/controls",
            "layout": "IPY_MODEL_866d0fa1d15c4a5fb9c3eb6534be551a"
          }
        },
        "cfe63e553f7848788c4503d6399fe1bc": {
          "model_module": "@jupyter-widgets/controls",
          "model_name": "ProgressStyleModel",
          "state": {
            "_view_name": "StyleView",
            "_model_name": "ProgressStyleModel",
            "description_width": "initial",
            "_view_module": "@jupyter-widgets/base",
            "_model_module_version": "1.5.0",
            "_view_count": null,
            "_view_module_version": "1.2.0",
            "bar_color": null,
            "_model_module": "@jupyter-widgets/controls"
          }
        },
        "f227fa3025fd4baea84d1313b34ab3c2": {
          "model_module": "@jupyter-widgets/base",
          "model_name": "LayoutModel",
          "state": {
            "_view_name": "LayoutView",
            "grid_template_rows": null,
            "right": null,
            "justify_content": null,
            "_view_module": "@jupyter-widgets/base",
            "overflow": null,
            "_model_module_version": "1.2.0",
            "_view_count": null,
            "flex_flow": null,
            "width": null,
            "min_width": null,
            "border": null,
            "align_items": null,
            "bottom": null,
            "_model_module": "@jupyter-widgets/base",
            "top": null,
            "grid_column": null,
            "overflow_y": null,
            "overflow_x": null,
            "grid_auto_flow": null,
            "grid_area": null,
            "grid_template_columns": null,
            "flex": null,
            "_model_name": "LayoutModel",
            "justify_items": null,
            "grid_row": null,
            "max_height": null,
            "align_content": null,
            "visibility": null,
            "align_self": null,
            "height": null,
            "min_height": null,
            "padding": null,
            "grid_auto_rows": null,
            "grid_gap": null,
            "max_width": null,
            "order": null,
            "_view_module_version": "1.2.0",
            "grid_template_areas": null,
            "object_position": null,
            "object_fit": null,
            "grid_auto_columns": null,
            "margin": null,
            "display": null,
            "left": null
          }
        },
        "663736e086c14491baa40d07c7d9bf65": {
          "model_module": "@jupyter-widgets/controls",
          "model_name": "DescriptionStyleModel",
          "state": {
            "_view_name": "StyleView",
            "_model_name": "DescriptionStyleModel",
            "description_width": "",
            "_view_module": "@jupyter-widgets/base",
            "_model_module_version": "1.5.0",
            "_view_count": null,
            "_view_module_version": "1.2.0",
            "_model_module": "@jupyter-widgets/controls"
          }
        },
        "866d0fa1d15c4a5fb9c3eb6534be551a": {
          "model_module": "@jupyter-widgets/base",
          "model_name": "LayoutModel",
          "state": {
            "_view_name": "LayoutView",
            "grid_template_rows": null,
            "right": null,
            "justify_content": null,
            "_view_module": "@jupyter-widgets/base",
            "overflow": null,
            "_model_module_version": "1.2.0",
            "_view_count": null,
            "flex_flow": null,
            "width": null,
            "min_width": null,
            "border": null,
            "align_items": null,
            "bottom": null,
            "_model_module": "@jupyter-widgets/base",
            "top": null,
            "grid_column": null,
            "overflow_y": null,
            "overflow_x": null,
            "grid_auto_flow": null,
            "grid_area": null,
            "grid_template_columns": null,
            "flex": null,
            "_model_name": "LayoutModel",
            "justify_items": null,
            "grid_row": null,
            "max_height": null,
            "align_content": null,
            "visibility": null,
            "align_self": null,
            "height": null,
            "min_height": null,
            "padding": null,
            "grid_auto_rows": null,
            "grid_gap": null,
            "max_width": null,
            "order": null,
            "_view_module_version": "1.2.0",
            "grid_template_areas": null,
            "object_position": null,
            "object_fit": null,
            "grid_auto_columns": null,
            "margin": null,
            "display": null,
            "left": null
          }
        },
        "3be80fe0c64e4cc98d5f9da18974671f": {
          "model_module": "@jupyter-widgets/controls",
          "model_name": "HBoxModel",
          "state": {
            "_view_name": "HBoxView",
            "_dom_classes": [],
            "_model_name": "HBoxModel",
            "_view_module": "@jupyter-widgets/controls",
            "_model_module_version": "1.5.0",
            "_view_count": null,
            "_view_module_version": "1.5.0",
            "box_style": "",
            "layout": "IPY_MODEL_3e4b4517ba6d4d0baaa5a0e47be4099e",
            "_model_module": "@jupyter-widgets/controls",
            "children": [
              "IPY_MODEL_4d0f051723d944bf977d5d366dc705f1",
              "IPY_MODEL_f0de438c27bf4fe28795137742c305ba"
            ]
          }
        },
        "3e4b4517ba6d4d0baaa5a0e47be4099e": {
          "model_module": "@jupyter-widgets/base",
          "model_name": "LayoutModel",
          "state": {
            "_view_name": "LayoutView",
            "grid_template_rows": null,
            "right": null,
            "justify_content": null,
            "_view_module": "@jupyter-widgets/base",
            "overflow": null,
            "_model_module_version": "1.2.0",
            "_view_count": null,
            "flex_flow": null,
            "width": null,
            "min_width": null,
            "border": null,
            "align_items": null,
            "bottom": null,
            "_model_module": "@jupyter-widgets/base",
            "top": null,
            "grid_column": null,
            "overflow_y": null,
            "overflow_x": null,
            "grid_auto_flow": null,
            "grid_area": null,
            "grid_template_columns": null,
            "flex": null,
            "_model_name": "LayoutModel",
            "justify_items": null,
            "grid_row": null,
            "max_height": null,
            "align_content": null,
            "visibility": null,
            "align_self": null,
            "height": null,
            "min_height": null,
            "padding": null,
            "grid_auto_rows": null,
            "grid_gap": null,
            "max_width": null,
            "order": null,
            "_view_module_version": "1.2.0",
            "grid_template_areas": null,
            "object_position": null,
            "object_fit": null,
            "grid_auto_columns": null,
            "margin": null,
            "display": null,
            "left": null
          }
        },
        "4d0f051723d944bf977d5d366dc705f1": {
          "model_module": "@jupyter-widgets/controls",
          "model_name": "FloatProgressModel",
          "state": {
            "_view_name": "ProgressView",
            "style": "IPY_MODEL_75c54a9a117b4091ac53f69c19de6278",
            "_dom_classes": [],
            "description": "Downloading: 100%",
            "_model_name": "FloatProgressModel",
            "bar_style": "success",
            "max": 112,
            "_view_module": "@jupyter-widgets/controls",
            "_model_module_version": "1.5.0",
            "value": 112,
            "_view_count": null,
            "_view_module_version": "1.5.0",
            "orientation": "horizontal",
            "min": 0,
            "description_tooltip": null,
            "_model_module": "@jupyter-widgets/controls",
            "layout": "IPY_MODEL_ffea78406a144951b05012a7b14e0cdc"
          }
        },
        "f0de438c27bf4fe28795137742c305ba": {
          "model_module": "@jupyter-widgets/controls",
          "model_name": "HTMLModel",
          "state": {
            "_view_name": "HTMLView",
            "style": "IPY_MODEL_936ef53cc37f4159ae9448c0d05798a0",
            "_dom_classes": [],
            "description": "",
            "_model_name": "HTMLModel",
            "placeholder": "​",
            "_view_module": "@jupyter-widgets/controls",
            "_model_module_version": "1.5.0",
            "value": " 112/112 [00:00&lt;00:00, 119B/s]",
            "_view_count": null,
            "_view_module_version": "1.5.0",
            "description_tooltip": null,
            "_model_module": "@jupyter-widgets/controls",
            "layout": "IPY_MODEL_41d270b4fba140e9920fec5f1e408b5c"
          }
        },
        "75c54a9a117b4091ac53f69c19de6278": {
          "model_module": "@jupyter-widgets/controls",
          "model_name": "ProgressStyleModel",
          "state": {
            "_view_name": "StyleView",
            "_model_name": "ProgressStyleModel",
            "description_width": "initial",
            "_view_module": "@jupyter-widgets/base",
            "_model_module_version": "1.5.0",
            "_view_count": null,
            "_view_module_version": "1.2.0",
            "bar_color": null,
            "_model_module": "@jupyter-widgets/controls"
          }
        },
        "ffea78406a144951b05012a7b14e0cdc": {
          "model_module": "@jupyter-widgets/base",
          "model_name": "LayoutModel",
          "state": {
            "_view_name": "LayoutView",
            "grid_template_rows": null,
            "right": null,
            "justify_content": null,
            "_view_module": "@jupyter-widgets/base",
            "overflow": null,
            "_model_module_version": "1.2.0",
            "_view_count": null,
            "flex_flow": null,
            "width": null,
            "min_width": null,
            "border": null,
            "align_items": null,
            "bottom": null,
            "_model_module": "@jupyter-widgets/base",
            "top": null,
            "grid_column": null,
            "overflow_y": null,
            "overflow_x": null,
            "grid_auto_flow": null,
            "grid_area": null,
            "grid_template_columns": null,
            "flex": null,
            "_model_name": "LayoutModel",
            "justify_items": null,
            "grid_row": null,
            "max_height": null,
            "align_content": null,
            "visibility": null,
            "align_self": null,
            "height": null,
            "min_height": null,
            "padding": null,
            "grid_auto_rows": null,
            "grid_gap": null,
            "max_width": null,
            "order": null,
            "_view_module_version": "1.2.0",
            "grid_template_areas": null,
            "object_position": null,
            "object_fit": null,
            "grid_auto_columns": null,
            "margin": null,
            "display": null,
            "left": null
          }
        },
        "936ef53cc37f4159ae9448c0d05798a0": {
          "model_module": "@jupyter-widgets/controls",
          "model_name": "DescriptionStyleModel",
          "state": {
            "_view_name": "StyleView",
            "_model_name": "DescriptionStyleModel",
            "description_width": "",
            "_view_module": "@jupyter-widgets/base",
            "_model_module_version": "1.5.0",
            "_view_count": null,
            "_view_module_version": "1.2.0",
            "_model_module": "@jupyter-widgets/controls"
          }
        },
        "41d270b4fba140e9920fec5f1e408b5c": {
          "model_module": "@jupyter-widgets/base",
          "model_name": "LayoutModel",
          "state": {
            "_view_name": "LayoutView",
            "grid_template_rows": null,
            "right": null,
            "justify_content": null,
            "_view_module": "@jupyter-widgets/base",
            "overflow": null,
            "_model_module_version": "1.2.0",
            "_view_count": null,
            "flex_flow": null,
            "width": null,
            "min_width": null,
            "border": null,
            "align_items": null,
            "bottom": null,
            "_model_module": "@jupyter-widgets/base",
            "top": null,
            "grid_column": null,
            "overflow_y": null,
            "overflow_x": null,
            "grid_auto_flow": null,
            "grid_area": null,
            "grid_template_columns": null,
            "flex": null,
            "_model_name": "LayoutModel",
            "justify_items": null,
            "grid_row": null,
            "max_height": null,
            "align_content": null,
            "visibility": null,
            "align_self": null,
            "height": null,
            "min_height": null,
            "padding": null,
            "grid_auto_rows": null,
            "grid_gap": null,
            "max_width": null,
            "order": null,
            "_view_module_version": "1.2.0",
            "grid_template_areas": null,
            "object_position": null,
            "object_fit": null,
            "grid_auto_columns": null,
            "margin": null,
            "display": null,
            "left": null
          }
        },
        "df32d244e3f14206a7433426acd646d8": {
          "model_module": "@jupyter-widgets/controls",
          "model_name": "HBoxModel",
          "state": {
            "_view_name": "HBoxView",
            "_dom_classes": [],
            "_model_name": "HBoxModel",
            "_view_module": "@jupyter-widgets/controls",
            "_model_module_version": "1.5.0",
            "_view_count": null,
            "_view_module_version": "1.5.0",
            "box_style": "",
            "layout": "IPY_MODEL_10ebd2e5654f446c990644a31cab1d4c",
            "_model_module": "@jupyter-widgets/controls",
            "children": [
              "IPY_MODEL_ec14cb25d92444d7bfe97a4a458a6b1c",
              "IPY_MODEL_be1e3186872e48d0b3ab6bd08cc8c882"
            ]
          }
        },
        "10ebd2e5654f446c990644a31cab1d4c": {
          "model_module": "@jupyter-widgets/base",
          "model_name": "LayoutModel",
          "state": {
            "_view_name": "LayoutView",
            "grid_template_rows": null,
            "right": null,
            "justify_content": null,
            "_view_module": "@jupyter-widgets/base",
            "overflow": null,
            "_model_module_version": "1.2.0",
            "_view_count": null,
            "flex_flow": null,
            "width": null,
            "min_width": null,
            "border": null,
            "align_items": null,
            "bottom": null,
            "_model_module": "@jupyter-widgets/base",
            "top": null,
            "grid_column": null,
            "overflow_y": null,
            "overflow_x": null,
            "grid_auto_flow": null,
            "grid_area": null,
            "grid_template_columns": null,
            "flex": null,
            "_model_name": "LayoutModel",
            "justify_items": null,
            "grid_row": null,
            "max_height": null,
            "align_content": null,
            "visibility": null,
            "align_self": null,
            "height": null,
            "min_height": null,
            "padding": null,
            "grid_auto_rows": null,
            "grid_gap": null,
            "max_width": null,
            "order": null,
            "_view_module_version": "1.2.0",
            "grid_template_areas": null,
            "object_position": null,
            "object_fit": null,
            "grid_auto_columns": null,
            "margin": null,
            "display": null,
            "left": null
          }
        },
        "ec14cb25d92444d7bfe97a4a458a6b1c": {
          "model_module": "@jupyter-widgets/controls",
          "model_name": "FloatProgressModel",
          "state": {
            "_view_name": "ProgressView",
            "style": "IPY_MODEL_4862873db8314d56a08ee9421df92fc8",
            "_dom_classes": [],
            "description": "Downloading: 100%",
            "_model_name": "FloatProgressModel",
            "bar_style": "success",
            "max": 86,
            "_view_module": "@jupyter-widgets/controls",
            "_model_module_version": "1.5.0",
            "value": 86,
            "_view_count": null,
            "_view_module_version": "1.5.0",
            "orientation": "horizontal",
            "min": 0,
            "description_tooltip": null,
            "_model_module": "@jupyter-widgets/controls",
            "layout": "IPY_MODEL_6909b1f7fea94ac7a4a0d0397f3857bd"
          }
        },
        "be1e3186872e48d0b3ab6bd08cc8c882": {
          "model_module": "@jupyter-widgets/controls",
          "model_name": "HTMLModel",
          "state": {
            "_view_name": "HTMLView",
            "style": "IPY_MODEL_4f4d94e507044874b21bb74fb3c953d6",
            "_dom_classes": [],
            "description": "",
            "_model_name": "HTMLModel",
            "placeholder": "​",
            "_view_module": "@jupyter-widgets/controls",
            "_model_module_version": "1.5.0",
            "value": " 86.0/86.0 [00:00&lt;00:00, 253B/s]",
            "_view_count": null,
            "_view_module_version": "1.5.0",
            "description_tooltip": null,
            "_model_module": "@jupyter-widgets/controls",
            "layout": "IPY_MODEL_bad876aa21754ae1a363285445f60f26"
          }
        },
        "4862873db8314d56a08ee9421df92fc8": {
          "model_module": "@jupyter-widgets/controls",
          "model_name": "ProgressStyleModel",
          "state": {
            "_view_name": "StyleView",
            "_model_name": "ProgressStyleModel",
            "description_width": "initial",
            "_view_module": "@jupyter-widgets/base",
            "_model_module_version": "1.5.0",
            "_view_count": null,
            "_view_module_version": "1.2.0",
            "bar_color": null,
            "_model_module": "@jupyter-widgets/controls"
          }
        },
        "6909b1f7fea94ac7a4a0d0397f3857bd": {
          "model_module": "@jupyter-widgets/base",
          "model_name": "LayoutModel",
          "state": {
            "_view_name": "LayoutView",
            "grid_template_rows": null,
            "right": null,
            "justify_content": null,
            "_view_module": "@jupyter-widgets/base",
            "overflow": null,
            "_model_module_version": "1.2.0",
            "_view_count": null,
            "flex_flow": null,
            "width": null,
            "min_width": null,
            "border": null,
            "align_items": null,
            "bottom": null,
            "_model_module": "@jupyter-widgets/base",
            "top": null,
            "grid_column": null,
            "overflow_y": null,
            "overflow_x": null,
            "grid_auto_flow": null,
            "grid_area": null,
            "grid_template_columns": null,
            "flex": null,
            "_model_name": "LayoutModel",
            "justify_items": null,
            "grid_row": null,
            "max_height": null,
            "align_content": null,
            "visibility": null,
            "align_self": null,
            "height": null,
            "min_height": null,
            "padding": null,
            "grid_auto_rows": null,
            "grid_gap": null,
            "max_width": null,
            "order": null,
            "_view_module_version": "1.2.0",
            "grid_template_areas": null,
            "object_position": null,
            "object_fit": null,
            "grid_auto_columns": null,
            "margin": null,
            "display": null,
            "left": null
          }
        },
        "4f4d94e507044874b21bb74fb3c953d6": {
          "model_module": "@jupyter-widgets/controls",
          "model_name": "DescriptionStyleModel",
          "state": {
            "_view_name": "StyleView",
            "_model_name": "DescriptionStyleModel",
            "description_width": "",
            "_view_module": "@jupyter-widgets/base",
            "_model_module_version": "1.5.0",
            "_view_count": null,
            "_view_module_version": "1.2.0",
            "_model_module": "@jupyter-widgets/controls"
          }
        },
        "bad876aa21754ae1a363285445f60f26": {
          "model_module": "@jupyter-widgets/base",
          "model_name": "LayoutModel",
          "state": {
            "_view_name": "LayoutView",
            "grid_template_rows": null,
            "right": null,
            "justify_content": null,
            "_view_module": "@jupyter-widgets/base",
            "overflow": null,
            "_model_module_version": "1.2.0",
            "_view_count": null,
            "flex_flow": null,
            "width": null,
            "min_width": null,
            "border": null,
            "align_items": null,
            "bottom": null,
            "_model_module": "@jupyter-widgets/base",
            "top": null,
            "grid_column": null,
            "overflow_y": null,
            "overflow_x": null,
            "grid_auto_flow": null,
            "grid_area": null,
            "grid_template_columns": null,
            "flex": null,
            "_model_name": "LayoutModel",
            "justify_items": null,
            "grid_row": null,
            "max_height": null,
            "align_content": null,
            "visibility": null,
            "align_self": null,
            "height": null,
            "min_height": null,
            "padding": null,
            "grid_auto_rows": null,
            "grid_gap": null,
            "max_width": null,
            "order": null,
            "_view_module_version": "1.2.0",
            "grid_template_areas": null,
            "object_position": null,
            "object_fit": null,
            "grid_auto_columns": null,
            "margin": null,
            "display": null,
            "left": null
          }
        },
        "ab205eac9b6b4e1e81c9e17a5ebe1a32": {
          "model_module": "@jupyter-widgets/controls",
          "model_name": "HBoxModel",
          "state": {
            "_view_name": "HBoxView",
            "_dom_classes": [],
            "_model_name": "HBoxModel",
            "_view_module": "@jupyter-widgets/controls",
            "_model_module_version": "1.5.0",
            "_view_count": null,
            "_view_module_version": "1.5.0",
            "box_style": "",
            "layout": "IPY_MODEL_1fd76bbe015b4a9bba2b7cb254565922",
            "_model_module": "@jupyter-widgets/controls",
            "children": [
              "IPY_MODEL_2f2a8b1c72e54431bdbb42defde48aaf",
              "IPY_MODEL_dfa9d8c9c2ac4eda9826d804772b81e5"
            ]
          }
        },
        "1fd76bbe015b4a9bba2b7cb254565922": {
          "model_module": "@jupyter-widgets/base",
          "model_name": "LayoutModel",
          "state": {
            "_view_name": "LayoutView",
            "grid_template_rows": null,
            "right": null,
            "justify_content": null,
            "_view_module": "@jupyter-widgets/base",
            "overflow": null,
            "_model_module_version": "1.2.0",
            "_view_count": null,
            "flex_flow": null,
            "width": null,
            "min_width": null,
            "border": null,
            "align_items": null,
            "bottom": null,
            "_model_module": "@jupyter-widgets/base",
            "top": null,
            "grid_column": null,
            "overflow_y": null,
            "overflow_x": null,
            "grid_auto_flow": null,
            "grid_area": null,
            "grid_template_columns": null,
            "flex": null,
            "_model_name": "LayoutModel",
            "justify_items": null,
            "grid_row": null,
            "max_height": null,
            "align_content": null,
            "visibility": null,
            "align_self": null,
            "height": null,
            "min_height": null,
            "padding": null,
            "grid_auto_rows": null,
            "grid_gap": null,
            "max_width": null,
            "order": null,
            "_view_module_version": "1.2.0",
            "grid_template_areas": null,
            "object_position": null,
            "object_fit": null,
            "grid_auto_columns": null,
            "margin": null,
            "display": null,
            "left": null
          }
        },
        "2f2a8b1c72e54431bdbb42defde48aaf": {
          "model_module": "@jupyter-widgets/controls",
          "model_name": "FloatProgressModel",
          "state": {
            "_view_name": "ProgressView",
            "style": "IPY_MODEL_ec94c38042b5437c92c59ed5040fb208",
            "_dom_classes": [],
            "description": "100%",
            "_model_name": "FloatProgressModel",
            "bar_style": "success",
            "max": 9,
            "_view_module": "@jupyter-widgets/controls",
            "_model_module_version": "1.5.0",
            "value": 9,
            "_view_count": null,
            "_view_module_version": "1.5.0",
            "orientation": "horizontal",
            "min": 0,
            "description_tooltip": null,
            "_model_module": "@jupyter-widgets/controls",
            "layout": "IPY_MODEL_33d368951c2344399fcbec772341add0"
          }
        },
        "dfa9d8c9c2ac4eda9826d804772b81e5": {
          "model_module": "@jupyter-widgets/controls",
          "model_name": "HTMLModel",
          "state": {
            "_view_name": "HTMLView",
            "style": "IPY_MODEL_cab6d510fdec4d9c9e102ee55119108b",
            "_dom_classes": [],
            "description": "",
            "_model_name": "HTMLModel",
            "placeholder": "​",
            "_view_module": "@jupyter-widgets/controls",
            "_model_module_version": "1.5.0",
            "value": " 9/9 [03:17&lt;00:00, 22.00s/it]",
            "_view_count": null,
            "_view_module_version": "1.5.0",
            "description_tooltip": null,
            "_model_module": "@jupyter-widgets/controls",
            "layout": "IPY_MODEL_935055b8e9b0422c842d2a3a5c3a0901"
          }
        },
        "ec94c38042b5437c92c59ed5040fb208": {
          "model_module": "@jupyter-widgets/controls",
          "model_name": "ProgressStyleModel",
          "state": {
            "_view_name": "StyleView",
            "_model_name": "ProgressStyleModel",
            "description_width": "initial",
            "_view_module": "@jupyter-widgets/base",
            "_model_module_version": "1.5.0",
            "_view_count": null,
            "_view_module_version": "1.2.0",
            "bar_color": null,
            "_model_module": "@jupyter-widgets/controls"
          }
        },
        "33d368951c2344399fcbec772341add0": {
          "model_module": "@jupyter-widgets/base",
          "model_name": "LayoutModel",
          "state": {
            "_view_name": "LayoutView",
            "grid_template_rows": null,
            "right": null,
            "justify_content": null,
            "_view_module": "@jupyter-widgets/base",
            "overflow": null,
            "_model_module_version": "1.2.0",
            "_view_count": null,
            "flex_flow": null,
            "width": null,
            "min_width": null,
            "border": null,
            "align_items": null,
            "bottom": null,
            "_model_module": "@jupyter-widgets/base",
            "top": null,
            "grid_column": null,
            "overflow_y": null,
            "overflow_x": null,
            "grid_auto_flow": null,
            "grid_area": null,
            "grid_template_columns": null,
            "flex": null,
            "_model_name": "LayoutModel",
            "justify_items": null,
            "grid_row": null,
            "max_height": null,
            "align_content": null,
            "visibility": null,
            "align_self": null,
            "height": null,
            "min_height": null,
            "padding": null,
            "grid_auto_rows": null,
            "grid_gap": null,
            "max_width": null,
            "order": null,
            "_view_module_version": "1.2.0",
            "grid_template_areas": null,
            "object_position": null,
            "object_fit": null,
            "grid_auto_columns": null,
            "margin": null,
            "display": null,
            "left": null
          }
        },
        "cab6d510fdec4d9c9e102ee55119108b": {
          "model_module": "@jupyter-widgets/controls",
          "model_name": "DescriptionStyleModel",
          "state": {
            "_view_name": "StyleView",
            "_model_name": "DescriptionStyleModel",
            "description_width": "",
            "_view_module": "@jupyter-widgets/base",
            "_model_module_version": "1.5.0",
            "_view_count": null,
            "_view_module_version": "1.2.0",
            "_model_module": "@jupyter-widgets/controls"
          }
        },
        "935055b8e9b0422c842d2a3a5c3a0901": {
          "model_module": "@jupyter-widgets/base",
          "model_name": "LayoutModel",
          "state": {
            "_view_name": "LayoutView",
            "grid_template_rows": null,
            "right": null,
            "justify_content": null,
            "_view_module": "@jupyter-widgets/base",
            "overflow": null,
            "_model_module_version": "1.2.0",
            "_view_count": null,
            "flex_flow": null,
            "width": null,
            "min_width": null,
            "border": null,
            "align_items": null,
            "bottom": null,
            "_model_module": "@jupyter-widgets/base",
            "top": null,
            "grid_column": null,
            "overflow_y": null,
            "overflow_x": null,
            "grid_auto_flow": null,
            "grid_area": null,
            "grid_template_columns": null,
            "flex": null,
            "_model_name": "LayoutModel",
            "justify_items": null,
            "grid_row": null,
            "max_height": null,
            "align_content": null,
            "visibility": null,
            "align_self": null,
            "height": null,
            "min_height": null,
            "padding": null,
            "grid_auto_rows": null,
            "grid_gap": null,
            "max_width": null,
            "order": null,
            "_view_module_version": "1.2.0",
            "grid_template_areas": null,
            "object_position": null,
            "object_fit": null,
            "grid_auto_columns": null,
            "margin": null,
            "display": null,
            "left": null
          }
        }
      }
    }
  },
  "cells": [
    {
      "cell_type": "code",
      "metadata": {
        "id": "c37i35X50FEh",
        "colab": {
          "base_uri": "https://localhost:8080/"
        },
        "outputId": "28939716-e63d-42c8-bd81-318299a26c9e"
      },
      "source": [
        "pip install transformers"
      ],
      "execution_count": 1,
      "outputs": [
        {
          "output_type": "stream",
          "text": [
            "Collecting transformers\n",
            "\u001b[?25l  Downloading https://files.pythonhosted.org/packages/d8/b2/57495b5309f09fa501866e225c84532d1fd89536ea62406b2181933fb418/transformers-4.5.1-py3-none-any.whl (2.1MB)\n",
            "\u001b[K     |████████████████████████████████| 2.1MB 12.2MB/s \n",
            "\u001b[?25hCollecting tokenizers<0.11,>=0.10.1\n",
            "\u001b[?25l  Downloading https://files.pythonhosted.org/packages/ae/04/5b870f26a858552025a62f1649c20d29d2672c02ff3c3fb4c688ca46467a/tokenizers-0.10.2-cp37-cp37m-manylinux2010_x86_64.whl (3.3MB)\n",
            "\u001b[K     |████████████████████████████████| 3.3MB 42.0MB/s \n",
            "\u001b[?25hRequirement already satisfied: requests in /usr/local/lib/python3.7/dist-packages (from transformers) (2.23.0)\n",
            "Requirement already satisfied: importlib-metadata; python_version < \"3.8\" in /usr/local/lib/python3.7/dist-packages (from transformers) (3.10.1)\n",
            "Requirement already satisfied: filelock in /usr/local/lib/python3.7/dist-packages (from transformers) (3.0.12)\n",
            "Collecting sacremoses\n",
            "\u001b[?25l  Downloading https://files.pythonhosted.org/packages/75/ee/67241dc87f266093c533a2d4d3d69438e57d7a90abb216fa076e7d475d4a/sacremoses-0.0.45-py3-none-any.whl (895kB)\n",
            "\u001b[K     |████████████████████████████████| 901kB 50.8MB/s \n",
            "\u001b[?25hRequirement already satisfied: numpy>=1.17 in /usr/local/lib/python3.7/dist-packages (from transformers) (1.19.5)\n",
            "Requirement already satisfied: regex!=2019.12.17 in /usr/local/lib/python3.7/dist-packages (from transformers) (2019.12.20)\n",
            "Requirement already satisfied: tqdm>=4.27 in /usr/local/lib/python3.7/dist-packages (from transformers) (4.41.1)\n",
            "Requirement already satisfied: packaging in /usr/local/lib/python3.7/dist-packages (from transformers) (20.9)\n",
            "Requirement already satisfied: chardet<4,>=3.0.2 in /usr/local/lib/python3.7/dist-packages (from requests->transformers) (3.0.4)\n",
            "Requirement already satisfied: urllib3!=1.25.0,!=1.25.1,<1.26,>=1.21.1 in /usr/local/lib/python3.7/dist-packages (from requests->transformers) (1.24.3)\n",
            "Requirement already satisfied: idna<3,>=2.5 in /usr/local/lib/python3.7/dist-packages (from requests->transformers) (2.10)\n",
            "Requirement already satisfied: certifi>=2017.4.17 in /usr/local/lib/python3.7/dist-packages (from requests->transformers) (2020.12.5)\n",
            "Requirement already satisfied: typing-extensions>=3.6.4; python_version < \"3.8\" in /usr/local/lib/python3.7/dist-packages (from importlib-metadata; python_version < \"3.8\"->transformers) (3.7.4.3)\n",
            "Requirement already satisfied: zipp>=0.5 in /usr/local/lib/python3.7/dist-packages (from importlib-metadata; python_version < \"3.8\"->transformers) (3.4.1)\n",
            "Requirement already satisfied: click in /usr/local/lib/python3.7/dist-packages (from sacremoses->transformers) (7.1.2)\n",
            "Requirement already satisfied: joblib in /usr/local/lib/python3.7/dist-packages (from sacremoses->transformers) (1.0.1)\n",
            "Requirement already satisfied: six in /usr/local/lib/python3.7/dist-packages (from sacremoses->transformers) (1.15.0)\n",
            "Requirement already satisfied: pyparsing>=2.0.2 in /usr/local/lib/python3.7/dist-packages (from packaging->transformers) (2.4.7)\n",
            "Installing collected packages: tokenizers, sacremoses, transformers\n",
            "Successfully installed sacremoses-0.0.45 tokenizers-0.10.2 transformers-4.5.1\n"
          ],
          "name": "stdout"
        }
      ]
    },
    {
      "cell_type": "markdown",
      "metadata": {
        "id": "OcTN6K6piMch"
      },
      "source": [
        "mount your drive"
      ]
    },
    {
      "cell_type": "code",
      "metadata": {
        "colab": {
          "base_uri": "https://localhost:8080/"
        },
        "id": "X3riMNC0iJbk",
        "outputId": "753c9625-6a52-4d0a-b266-06f14110603d"
      },
      "source": [
        "from google.colab import drive\n",
        "drive.mount('/content/drive')"
      ],
      "execution_count": 3,
      "outputs": [
        {
          "output_type": "stream",
          "text": [
            "Mounted at /content/drive\n"
          ],
          "name": "stdout"
        }
      ]
    },
    {
      "cell_type": "markdown",
      "metadata": {
        "id": "lvo4TiDN78lO"
      },
      "source": [
        "sajat batenitott modell hasznalata"
      ]
    },
    {
      "cell_type": "code",
      "metadata": {
        "id": "CyTqe8KA0HCM",
        "colab": {
          "base_uri": "https://localhost:8080/",
          "height": 165,
          "referenced_widgets": [
            "826a898ff835427492af497c73a3f2f9",
            "890edac7ad1847dbabaa03d2c4b23337",
            "20c9c3d0c78140d4aaeeb97d9f2da9fa",
            "88e17f41f7424a29aa6e16cfe738a499",
            "cfe63e553f7848788c4503d6399fe1bc",
            "f227fa3025fd4baea84d1313b34ab3c2",
            "663736e086c14491baa40d07c7d9bf65",
            "866d0fa1d15c4a5fb9c3eb6534be551a",
            "3be80fe0c64e4cc98d5f9da18974671f",
            "3e4b4517ba6d4d0baaa5a0e47be4099e",
            "4d0f051723d944bf977d5d366dc705f1",
            "f0de438c27bf4fe28795137742c305ba",
            "75c54a9a117b4091ac53f69c19de6278",
            "ffea78406a144951b05012a7b14e0cdc",
            "936ef53cc37f4159ae9448c0d05798a0",
            "41d270b4fba140e9920fec5f1e408b5c",
            "df32d244e3f14206a7433426acd646d8",
            "10ebd2e5654f446c990644a31cab1d4c",
            "ec14cb25d92444d7bfe97a4a458a6b1c",
            "be1e3186872e48d0b3ab6bd08cc8c882",
            "4862873db8314d56a08ee9421df92fc8",
            "6909b1f7fea94ac7a4a0d0397f3857bd",
            "4f4d94e507044874b21bb74fb3c953d6",
            "bad876aa21754ae1a363285445f60f26"
          ]
        },
        "outputId": "dc8834fe-9afe-487f-da80-eaf83533d366"
      },
      "source": [
        "from transformers import BertTokenizer, BertForMaskedLM\n",
        "from torch.nn import functional as F\n",
        "import torch\n",
        "\n",
        "# #a szavak tokenizálója\n",
        "tokenizer = BertTokenizer.from_pretrained(\"SZTAKI-HLT/hubert-base-cc\")\n",
        "#model = BertForMaskedLM.from_pretrained(\"SZTAKI-HLT/hubert-base-cc\") #comment out if you are yousing your model!!"
      ],
      "execution_count": 4,
      "outputs": [
        {
          "output_type": "display_data",
          "data": {
            "application/vnd.jupyter.widget-view+json": {
              "model_id": "826a898ff835427492af497c73a3f2f9",
              "version_minor": 0,
              "version_major": 2
            },
            "text/plain": [
              "HBox(children=(FloatProgress(value=0.0, description='Downloading', max=272107.0, style=ProgressStyle(descripti…"
            ]
          },
          "metadata": {
            "tags": []
          }
        },
        {
          "output_type": "stream",
          "text": [
            "\n"
          ],
          "name": "stdout"
        },
        {
          "output_type": "display_data",
          "data": {
            "application/vnd.jupyter.widget-view+json": {
              "model_id": "3be80fe0c64e4cc98d5f9da18974671f",
              "version_minor": 0,
              "version_major": 2
            },
            "text/plain": [
              "HBox(children=(FloatProgress(value=0.0, description='Downloading', max=112.0, style=ProgressStyle(description_…"
            ]
          },
          "metadata": {
            "tags": []
          }
        },
        {
          "output_type": "stream",
          "text": [
            "\n"
          ],
          "name": "stdout"
        },
        {
          "output_type": "display_data",
          "data": {
            "application/vnd.jupyter.widget-view+json": {
              "model_id": "df32d244e3f14206a7433426acd646d8",
              "version_minor": 0,
              "version_major": 2
            },
            "text/plain": [
              "HBox(children=(FloatProgress(value=0.0, description='Downloading', max=86.0, style=ProgressStyle(description_w…"
            ]
          },
          "metadata": {
            "tags": []
          }
        },
        {
          "output_type": "stream",
          "text": [
            "\n"
          ],
          "name": "stdout"
        }
      ]
    },
    {
      "cell_type": "markdown",
      "metadata": {
        "id": "xjiFwXtt-FGh"
      },
      "source": [
        "masking and generatiing text varioations"
      ]
    },
    {
      "cell_type": "markdown",
      "metadata": {
        "id": "YAEkT4wZYZyg"
      },
      "source": [
        "Loading the model"
      ]
    },
    {
      "cell_type": "code",
      "metadata": {
        "id": "poOWobm99uxZ"
      },
      "source": [
        "PATH = './drive/MyDrive/szöveggenerálás/betanitott_nyelvmodellek/mese_modellek/betanitas 4 20 epoch 64 batch mondat' #your pretrained model path's\n",
        "\n",
        "from transformers import pipeline\n",
        "\n",
        "fill_mask = pipeline(\n",
        "    \"fill-mask\",\n",
        "    #model=model\n",
        "    model=BertForMaskedLM.from_pretrained(PATH,local_files_only=True), #load yout model!!!\n",
        "    tokenizer=BertTokenizer.from_pretrained(\"SZTAKI-HLT/hubert-base-cc\",local_files_only=False)\n",
        ")"
      ],
      "execution_count": 5,
      "outputs": []
    },
    {
      "cell_type": "code",
      "metadata": {
        "id": "WHeRem99i3Q7"
      },
      "source": [
        "# newtext=a[1]['sequence']"
      ],
      "execution_count": 6,
      "outputs": []
    },
    {
      "cell_type": "code",
      "metadata": {
        "id": "dvGCyDaOjc5-",
        "colab": {
          "base_uri": "https://localhost:8080/"
        },
        "outputId": "50ffd166-db0c-43a7-daed-a08b3c331e9c"
      },
      "source": [
        "!nvidia-smi"
      ],
      "execution_count": 7,
      "outputs": [
        {
          "output_type": "stream",
          "text": [
            "NVIDIA-SMI has failed because it couldn't communicate with the NVIDIA driver. Make sure that the latest NVIDIA driver is installed and running.\n",
            "\n"
          ],
          "name": "stdout"
        }
      ]
    },
    {
      "cell_type": "code",
      "metadata": {
        "id": "oo8CzRaM1tOk"
      },
      "source": [
        ""
      ],
      "execution_count": null,
      "outputs": []
    },
    {
      "cell_type": "markdown",
      "metadata": {
        "id": "7bAELRES7v_C"
      },
      "source": [
        "Algorythm for generation by appending senetences\n",
        " \n",
        "the alg does: A bemeneti szöveg alapján kimeneti szöveget állít elő. Annyi sorosat ahány sor a bemeenti szöveg volt. \n",
        "1. az első öt mondatot átmásolja a kimeneti fájl txt be\n",
        "2. Ez után a 6. mondatot az eredeti szövegfájl 1-4 mondata és az új szövegfájl 5. mondata alapján predikálja\n",
        "3. A 7. mondatot az eredeti szöveg 2-5 + predikált szöveg 6. mondata alapján generálja  \n",
        "Azaz a következőkban az i. mondat predikálás bemenete(eredeti[i-5:i-2]+predikált szövegcorpus[i-1])"
      ]
    },
    {
      "cell_type": "markdown",
      "metadata": {
        "id": "bDIL84M_YkUd"
      },
      "source": [
        "parameters:"
      ]
    },
    {
      "cell_type": "code",
      "metadata": {
        "id": "T03C5r4ZYmGR"
      },
      "source": [
        "a_mondat_vegere_fuzendo_szavak_szama=20\n",
        "random_pred_parameter=20\n",
        "\n",
        "# tokens or words we don't want in our generated sentences\n",
        "excluded_words = ['[ P A D ]', '[ U N K ]', ';', '.', ':', '?', '!', ',', '\"', '#', '$', '[', ']', '%', '&', '(', ')', '*', '+', '-', '/', '0',  '1', '2', '3', '4', '5', '6', '7', '8', '9', '<', '=', '>', '<', '”', '«', '»', '–', '“', '„', ] \n",
        "\n",
        "\n",
        "#dont generate word with this characters\n",
        "# lst = ['yellow', 'orange', 'red']\n",
        "# word = \"or\"\n",
        "# any(word in x for x in lst)\n",
        "\n",
        "# any('béla' in x for x in excluded_words)\n",
        "\n",
        "# extensionsToCheck = ['.pdf', '.doc', '.xls']\n",
        "# url_string = 'file.doc'\n",
        "# res = [ele for ele in extensionsToCheck if(ele in url_string)]\n",
        "# print(bool(res))\n",
        "\n",
        "#res = [exclword for exclword in excluded_words if(exclword in ',béla')]\n",
        "# print(bool(res))"
      ],
      "execution_count": 91,
      "outputs": []
    },
    {
      "cell_type": "code",
      "metadata": {
        "id": "qaXIpseC-Tpl"
      },
      "source": [
        "#a bemeneti szöveg betöltése\n",
        "with open('./bemeneti_szoveg.txt') as file_in:\n",
        "    input_lines = [line.rstrip() for line in file_in]"
      ],
      "execution_count": 92,
      "outputs": []
    },
    {
      "cell_type": "code",
      "metadata": {
        "id": "HXjbErir-ZP-",
        "colab": {
          "base_uri": "https://localhost:8080/"
        },
        "outputId": "77cb8396-f0be-4470-d9a3-7a88546e6755"
      },
      "source": [
        "input_lines"
      ],
      "execution_count": 93,
      "outputs": [
        {
          "output_type": "execute_result",
          "data": {
            "text/plain": [
              "['tengerjáró szindbád kalandjai',\n",
              " 'harun - al - rasid fejedelem uralkodása alatt élt bagdad városában egy ember : teherhordó szindbádnak hívták .',\n",
              " 'szegény sorban volt , terheket cipelt a fején , így tengette életét .',\n",
              " 'történt pedig vele egyszer , hogy igen súlyos csomagot vitt .',\n",
              " 'roppant meleg volt , majd leroskadt terhe alatt , csörgött róla a veríték , a hőség iszonyúan nyomasztotta .',\n",
              " 'épp egy kereskedő kapuja mellett haladt el; az út a kapu előtt fel volt söpörve , meg volt öntözve; ez egészen felfrissítette a levegőt .',\n",
              " 'a kapu mellett pedig széles kőpad állt .',\n",
              " 'a teherhordó lerakta málháját erre a padra , hogy megpihenjen , és hogy friss levegőt szívjon .',\n",
              " 'a kapun át tiszta szellő , kellemes illat fuvallt rá , és ez nagy gyönyörrel töltötte el .',\n",
              " 'leült a pad végébe , fentről húrok pengetése , lant zengése hallatszott .',\n",
              " 'szívderítő hangokat , válogatott szavalatokat hallott , és hallotta a madarak dalát : a gerlicéket és az ezerszavú csalogányt , a rigót , a fülemülét és az örvös galambot .',\n",
              " 'elcsodálkozott magában , és örömre vidult a szíve .',\n",
              " 'közelebb lépett a kapuhoz , és megpillantott a ház bejáratán túl egy óriás kertet , benne szolgákat , rabszolgákat , inasokat , kísérőket .',\n",
              " 'és látott még sok mindent , amit csak királyok és császárok körül lehet látni .',\n",
              " 'és megcsapta a jó és nemes ételek minden fajtájának , a finom italoknak illata is .']"
            ]
          },
          "metadata": {
            "tags": []
          },
          "execution_count": 93
        }
      ]
    },
    {
      "cell_type": "code",
      "metadata": {
        "id": "y3_bT6toB4oU",
        "colab": {
          "base_uri": "https://localhost:8080/"
        },
        "outputId": "ef03046b-c2b3-42c9-b874-623aedd0c958"
      },
      "source": [
        "input_lines[1:5]"
      ],
      "execution_count": 94,
      "outputs": [
        {
          "output_type": "execute_result",
          "data": {
            "text/plain": [
              "['harun - al - rasid fejedelem uralkodása alatt élt bagdad városában egy ember : teherhordó szindbádnak hívták .',\n",
              " 'szegény sorban volt , terheket cipelt a fején , így tengette életét .',\n",
              " 'történt pedig vele egyszer , hogy igen súlyos csomagot vitt .',\n",
              " 'roppant meleg volt , majd leroskadt terhe alatt , csörgött róla a veríték , a hőség iszonyúan nyomasztotta .']"
            ]
          },
          "metadata": {
            "tags": []
          },
          "execution_count": 94
        }
      ]
    },
    {
      "cell_type": "code",
      "metadata": {
        "id": "JLQCSDKO-_cn"
      },
      "source": [
        "#az eredeti szövegből az 1-5 mondat új szövegbe átmásolása\n",
        "\n",
        "output_lines=[]\n",
        "\n",
        "#új szövegtxt leképzése\n",
        "with open('kimeneti_konyv.txt', 'w') as file_out:\n",
        "    file_out.write('A Generált könyv \\n')\n",
        "\n",
        "#az első öt mondat átmásolása\n",
        "i=0\n",
        "while i<5:\n",
        "  output_lines.append(input_lines[i])\n",
        "  i=i+1\n",
        "output_lines\n",
        "\n",
        "#a txt megírása\n",
        "with open('kimeneti_konyv.txt', 'a+') as file_out:\n",
        "  file_out.write(output_lines[0]+\"\\n\")\n",
        "  file_out.write(output_lines[1]+\"\\n\")\n",
        "  file_out.write(output_lines[2]+\"\\n\")\n",
        "  file_out.write(output_lines[3]+\"\\n\")\n",
        "  file_out.write(output_lines[4]+\"\\n\")"
      ],
      "execution_count": 95,
      "outputs": []
    },
    {
      "cell_type": "code",
      "metadata": {
        "id": "ce4PS7KnPLoR"
      },
      "source": [
        "#a hatodik mondat lepredikálása eredeti szövegfájl 1-4 mondata és az új szövegfájl 5. mondata alapján (paraméterek ellenőrizhetők)  \n",
        "import random\n",
        "\n",
        "\n",
        "i=0\n",
        "#text= input_lines[0]+\" \"+input_lines[1]+\" \"+input_lines[2]+\" \"+input_lines[3]+\" \"+output_lines[4]\n",
        "text= input_lines[0]+\" \"+input_lines[1]+\" \"+input_lines[2]+\" \"+input_lines[3]+\" \"+input_lines[4] #inkább csak az eredetiekkel\n",
        "#cutter=len(text) ez igy nem mukodik, ennel furmanyosabb kell\n",
        "outputnewsentence=\"\"\n",
        "\n",
        "\n",
        "while i<a_mondat_vegere_fuzendo_szavak_szama:\n",
        "  a=fill_mask(text + tokenizer.mask_token, top_k=random_pred_parameter)[random.choice(range(random_pred_parameter))]  #a folytatás kiválasztása a 10-30 random_pred_parameter legvaloszinub kozul random modon tortenik\n",
        "  #print(a['sequence'])\n",
        "  #print(i)\n",
        "  if bool([exclword for exclword in excluded_words if(exclword in a['token_str'])])==False: \n",
        "    text=a['sequence']\n",
        "    #outputnewsentence=outputnewsentence+\" \"+a['token_str'].replace(\" \",\"\") #ez igy nem mukodik\n",
        "    i=i+1\n",
        "    #allapitsuk meg a bemenet hosszat amit majd le kell vagni a kimenet elejerol\n",
        "    if i==1:\n",
        "      firstpredictedtoken=a['token_str']\n",
        "      lengthwithfirstpredtoken=len(a['sequence'])\n",
        "      lengthoffirstpredictedtoken=len(firstpredictedtoken.replace(\" \",\"\"))\n",
        "      cutter=lengthwithfirstpredtoken-lengthoffirstpredictedtoken\n",
        "\n",
        "outputnewsentence=text[cutter:]\n",
        "output_lines.append(outputnewsentence)"
      ],
      "execution_count": 96,
      "outputs": []
    },
    {
      "cell_type": "code",
      "metadata": {
        "id": "G-A2tiFfmqhh"
      },
      "source": [
        "#a hatodik mondat a kimeneti txt hez adása\n",
        "with open('kimeneti_konyv.txt', 'a+') as file_out:\n",
        "  file_out.write(output_lines[5]+\".\"+\"\\n\")"
      ],
      "execution_count": 97,
      "outputs": []
    },
    {
      "cell_type": "code",
      "metadata": {
        "id": "kQ-YgYHcnj7K",
        "colab": {
          "base_uri": "https://localhost:8080/",
          "height": 919,
          "referenced_widgets": [
            "ab205eac9b6b4e1e81c9e17a5ebe1a32",
            "1fd76bbe015b4a9bba2b7cb254565922",
            "2f2a8b1c72e54431bdbb42defde48aaf",
            "dfa9d8c9c2ac4eda9826d804772b81e5",
            "ec94c38042b5437c92c59ed5040fb208",
            "33d368951c2344399fcbec772341add0",
            "cab6d510fdec4d9c9e102ee55119108b",
            "935055b8e9b0422c842d2a3a5c3a0901"
          ]
        },
        "outputId": "589e0e97-69d9-4266-cfac-50481ea5357c"
      },
      "source": [
        "#a többi mondat legenerálása\n",
        "\n",
        "\n",
        "j=6 #ez jelképezi a 7. mondatot\n",
        "\n",
        "#A következőkben az j. mondat predikálás bemenete(eredeti[i-5:i-2]+predikált szövegcorpus[i-1])\n",
        "for j in tqdm(range(6,len(input_lines))):\n",
        "#while j<len(input_lines):\n",
        "  #text=input_lines[j-5]+input_lines[j-4]+input_lines[j-3]+input_lines[j-2]+output_lines[j-1] #az utolso mondatott a predikkaltbol veszuk\n",
        "  text=input_lines[j-5]+input_lines[j-4]+input_lines[j-3]+input_lines[j-2]+input_lines[j-1] #mindegyiket az eredetibol vesszuk  1:23 vs 1:19 vs 1:03\n",
        "  \n",
        "  #es akkor johet a már bevált, egy mondat predikálásánál alkalmazott eljárás\n",
        "  print(\"the origional text: \")\n",
        "  print(text)\n",
        "\n",
        "\n",
        "  i=0\n",
        "  while i<a_mondat_vegere_fuzendo_szavak_szama:\n",
        "    a=fill_mask(text + tokenizer.mask_token, top_k=random_pred_parameter)[random.choice(range(random_pred_parameter))]  #a folytatás kiválasztása a 10-30 random_pred_parameter legvaloszinub kozul random modon tortenik\n",
        "    if bool([exclword for exclword in excluded_words if(exclword in a['token_str'])])==False and a['token_str'] != \"ű\":  \n",
        "      text=a['sequence']\n",
        "      #outputnewsentence=outputnewsentence+\" \"+a['token_str'].replace(\" \",\"\") #ez igy nem mukodik\n",
        "      i=i+1\n",
        "      #allapitsuk meg a bemenet hosszat amit majd le kell vagni a kimenet elejerol\n",
        "      if i==1:\n",
        "        firstpredictedtoken=a['token_str']\n",
        "        lengthwithfirstpredtoken=len(a['sequence'])\n",
        "        lengthoffirstpredictedtoken=len(firstpredictedtoken.replace(\" \",\"\"))\n",
        "        cutter=lengthwithfirstpredtoken-lengthoffirstpredictedtoken\n",
        "        \n",
        "  outputnewsentence=text[cutter:]\n",
        "  output_lines.append(outputnewsentence)\n",
        "  print(\"the predicted sentence: \")\n",
        "  print(text)\n",
        "  j=j+1\n",
        "  print((j-6)/(len(input_lines)-6))\n",
        "\n"
      ],
      "execution_count": 99,
      "outputs": [
        {
          "output_type": "stream",
          "text": [
            "/usr/local/lib/python3.7/dist-packages/ipykernel_launcher.py:7: TqdmDeprecationWarning: This function will be removed in tqdm==5.0.0\n",
            "Please use `tqdm.notebook.tqdm` instead of `tqdm.tqdm_notebook`\n",
            "  import sys\n"
          ],
          "name": "stderr"
        },
        {
          "output_type": "display_data",
          "data": {
            "application/vnd.jupyter.widget-view+json": {
              "model_id": "ab205eac9b6b4e1e81c9e17a5ebe1a32",
              "version_minor": 0,
              "version_major": 2
            },
            "text/plain": [
              "HBox(children=(FloatProgress(value=0.0, max=9.0), HTML(value='')))"
            ]
          },
          "metadata": {
            "tags": []
          }
        },
        {
          "output_type": "stream",
          "text": [
            "the origional text: \n",
            "harun - al - rasid fejedelem uralkodása alatt élt bagdad városában egy ember : teherhordó szindbádnak hívták .szegény sorban volt , terheket cipelt a fején , így tengette életét .történt pedig vele egyszer , hogy igen súlyos csomagot vitt .roppant meleg volt , majd leroskadt terhe alatt , csörgött róla a veríték , a hőség iszonyúan nyomasztotta .épp egy kereskedő kapuja mellett haladt el; az út a kapu előtt fel volt söpörve , meg volt öntözve; ez egészen felfrissítette a levegőt .\n",
            "the predicted sentence: \n",
            "harun - al - rasid fejedelem uralkodása alatt élt bagdad városában egy ember : teherhordó szindbádnak hívták. szegény sorban volt, terheket cipelt a fején, így tengette életét. történt pedig vele egyszer, hogy igen súlyos csomagot vitt. roppant meleg volt, majd leroskadt terhe alatt, csörgött róla a veríték, a hőség iszonyúan nyomasztotta. épp egy kereskedő kapuja mellett haladt el ; az út a kapu előtt fel volt söpörve, meg volt öntözve ; ez egészen felfrissítette a levegőt. ekkor már egy ideig bírta a munkát és egy nap csak nem ment sokáig s\n",
            "0.1111111111111111\n",
            "the origional text: \n",
            "szegény sorban volt , terheket cipelt a fején , így tengette életét .történt pedig vele egyszer , hogy igen súlyos csomagot vitt .roppant meleg volt , majd leroskadt terhe alatt , csörgött róla a veríték , a hőség iszonyúan nyomasztotta .épp egy kereskedő kapuja mellett haladt el; az út a kapu előtt fel volt söpörve , meg volt öntözve; ez egészen felfrissítette a levegőt .a kapu mellett pedig széles kőpad állt .\n",
            "the predicted sentence: \n",
            "szegény sorban volt, terheket cipelt a fején, így tengette életét. történt pedig vele egyszer, hogy igen súlyos csomagot vitt. roppant meleg volt, majd leroskadt terhe alatt, csörgött róla a veríték, a hőség iszonyúan nyomasztotta. épp egy kereskedő kapuja mellett haladt el ; az út a kapu előtt fel volt söpörve, meg volt öntözve ; ez egészen felfrissítette a levegőt. a kapu mellett pedig széles kőpad állt. ekkor csak annyit tesz neki magának a leány neve is mint anya s feleség s\n",
            "0.2222222222222222\n",
            "the origional text: \n",
            "történt pedig vele egyszer , hogy igen súlyos csomagot vitt .roppant meleg volt , majd leroskadt terhe alatt , csörgött róla a veríték , a hőség iszonyúan nyomasztotta .épp egy kereskedő kapuja mellett haladt el; az út a kapu előtt fel volt söpörve , meg volt öntözve; ez egészen felfrissítette a levegőt .a kapu mellett pedig széles kőpad állt .a teherhordó lerakta málháját erre a padra , hogy megpihenjen , és hogy friss levegőt szívjon .\n",
            "the predicted sentence: \n",
            "történt pedig vele egyszer, hogy igen súlyos csomagot vitt. roppant meleg volt, majd leroskadt terhe alatt, csörgött róla a veríték, a hőség iszonyúan nyomasztotta. épp egy kereskedő kapuja mellett haladt el ; az út a kapu előtt fel volt söpörve, meg volt öntözve ; ez egészen felfrissítette a levegőt. a kapu mellett pedig széles kőpad állt. a teherhordó lerakta málháját erre a padra, hogy megpihenjen, és hogy friss levegőt szívjon. több tanulmány hozzá ehhez egyszer ehhez a jelentés a többi közül s azután ezt mondja\n",
            "0.3333333333333333\n",
            "the origional text: \n",
            "roppant meleg volt , majd leroskadt terhe alatt , csörgött róla a veríték , a hőség iszonyúan nyomasztotta .épp egy kereskedő kapuja mellett haladt el; az út a kapu előtt fel volt söpörve , meg volt öntözve; ez egészen felfrissítette a levegőt .a kapu mellett pedig széles kőpad állt .a teherhordó lerakta málháját erre a padra , hogy megpihenjen , és hogy friss levegőt szívjon .a kapun át tiszta szellő , kellemes illat fuvallt rá , és ez nagy gyönyörrel töltötte el .\n",
            "the predicted sentence: \n",
            "roppant meleg volt, majd leroskadt terhe alatt, csörgött róla a veríték, a hőség iszonyúan nyomasztotta. épp egy kereskedő kapuja mellett haladt el ; az út a kapu előtt fel volt söpörve, meg volt öntözve ; ez egészen felfrissítette a levegőt. a kapu mellett pedig széles kőpad állt. a teherhordó lerakta málháját erre a padra, hogy megpihenjen, és hogy friss levegőt szívjon. a kapun át tiszta szellő, kellemes illat fuvallt rá, és ez nagy gyönyörrel töltötte el. most aztán mi az az ördög és ha mégis mi okozhatja vajon mégis mi lenne\n",
            "0.4444444444444444\n",
            "the origional text: \n",
            "épp egy kereskedő kapuja mellett haladt el; az út a kapu előtt fel volt söpörve , meg volt öntözve; ez egészen felfrissítette a levegőt .a kapu mellett pedig széles kőpad állt .a teherhordó lerakta málháját erre a padra , hogy megpihenjen , és hogy friss levegőt szívjon .a kapun át tiszta szellő , kellemes illat fuvallt rá , és ez nagy gyönyörrel töltötte el .leült a pad végébe , fentről húrok pengetése , lant zengése hallatszott .\n",
            "the predicted sentence: \n",
            "épp egy kereskedő kapuja mellett haladt el ; az út a kapu előtt fel volt söpörve, meg volt öntözve ; ez egészen felfrissítette a levegőt. a kapu mellett pedig széles kőpad állt. a teherhordó lerakta málháját erre a padra, hogy megpihenjen, és hogy friss levegőt szívjon. a kapun át tiszta szellő, kellemes illat fuvallt rá, és ez nagy gyönyörrel töltötte el. leült a pad végébe, fentről húrok pengetése, lant zengése hallatszott. több száz lépésre voltak onnan csak egy órára sem a király előtt nem pedig utána\n",
            "0.5555555555555556\n",
            "the origional text: \n",
            "a kapu mellett pedig széles kőpad állt .a teherhordó lerakta málháját erre a padra , hogy megpihenjen , és hogy friss levegőt szívjon .a kapun át tiszta szellő , kellemes illat fuvallt rá , és ez nagy gyönyörrel töltötte el .leült a pad végébe , fentről húrok pengetése , lant zengése hallatszott .szívderítő hangokat , válogatott szavalatokat hallott , és hallotta a madarak dalát : a gerlicéket és az ezerszavú csalogányt , a rigót , a fülemülét és az örvös galambot .\n",
            "the predicted sentence: \n",
            "a kapu mellett pedig széles kőpad állt. a teherhordó lerakta málháját erre a padra, hogy megpihenjen, és hogy friss levegőt szívjon. a kapun át tiszta szellő, kellemes illat fuvallt rá, és ez nagy gyönyörrel töltötte el. leült a pad végébe, fentről húrok pengetése, lant zengése hallatszott. szívderítő hangokat, válogatott szavalatokat hallott, és hallotta a madarak dalát : a gerlicéket és az ezerszavú csalogányt, a rigót, a fülemülét és az örvös galambot. a kapu felett ülve várta helyét helyét is mindig mindig és mindenki mindig előtt állt\n",
            "0.6666666666666666\n",
            "the origional text: \n",
            "a teherhordó lerakta málháját erre a padra , hogy megpihenjen , és hogy friss levegőt szívjon .a kapun át tiszta szellő , kellemes illat fuvallt rá , és ez nagy gyönyörrel töltötte el .leült a pad végébe , fentről húrok pengetése , lant zengése hallatszott .szívderítő hangokat , válogatott szavalatokat hallott , és hallotta a madarak dalát : a gerlicéket és az ezerszavú csalogányt , a rigót , a fülemülét és az örvös galambot .elcsodálkozott magában , és örömre vidult a szíve .\n",
            "the predicted sentence: \n",
            "a teherhordó lerakta málháját erre a padra, hogy megpihenjen, és hogy friss levegőt szívjon. a kapun át tiszta szellő, kellemes illat fuvallt rá, és ez nagy gyönyörrel töltötte el. leült a pad végébe, fentről húrok pengetése, lant zengése hallatszott. szívderítő hangokat, válogatott szavalatokat hallott, és hallotta a madarak dalát : a gerlicéket és az ezerszavú csalogányt, a rigót, a fülemülét és az örvös galambot. elcsodálkozott magában, és örömre vidult a szíve. egy gondolat erre nézve róla következik hozzám hozzám is következik hozzám ez illik rólam hozzád\n",
            "0.7777777777777778\n",
            "the origional text: \n",
            "a kapun át tiszta szellő , kellemes illat fuvallt rá , és ez nagy gyönyörrel töltötte el .leült a pad végébe , fentről húrok pengetése , lant zengése hallatszott .szívderítő hangokat , válogatott szavalatokat hallott , és hallotta a madarak dalát : a gerlicéket és az ezerszavú csalogányt , a rigót , a fülemülét és az örvös galambot .elcsodálkozott magában , és örömre vidult a szíve .közelebb lépett a kapuhoz , és megpillantott a ház bejáratán túl egy óriás kertet , benne szolgákat , rabszolgákat , inasokat , kísérőket .\n",
            "the predicted sentence: \n",
            "a kapun át tiszta szellő, kellemes illat fuvallt rá, és ez nagy gyönyörrel töltötte el. leült a pad végébe, fentről húrok pengetése, lant zengése hallatszott. szívderítő hangokat, válogatott szavalatokat hallott, és hallotta a madarak dalát : a gerlicéket és az ezerszavú csalogányt, a rigót, a fülemülét és az örvös galambot. elcsodálkozott magában, és örömre vidult a szíve. közelebb lépett a kapuhoz, és megpillantott a ház bejáratán túl egy óriás kertet, benne szolgákat, rabszolgákat, inasokat, kísérőket. három ló mellett feküdt egy fa előtt egy szép hölgy a hátán az arany szavakkal\n",
            "0.8888888888888888\n",
            "the origional text: \n",
            "leült a pad végébe , fentről húrok pengetése , lant zengése hallatszott .szívderítő hangokat , válogatott szavalatokat hallott , és hallotta a madarak dalát : a gerlicéket és az ezerszavú csalogányt , a rigót , a fülemülét és az örvös galambot .elcsodálkozott magában , és örömre vidult a szíve .közelebb lépett a kapuhoz , és megpillantott a ház bejáratán túl egy óriás kertet , benne szolgákat , rabszolgákat , inasokat , kísérőket .és látott még sok mindent , amit csak királyok és császárok körül lehet látni .\n",
            "the predicted sentence: \n",
            "leült a pad végébe, fentről húrok pengetése, lant zengése hallatszott. szívderítő hangokat, válogatott szavalatokat hallott, és hallotta a madarak dalát : a gerlicéket és az ezerszavú csalogányt, a rigót, a fülemülét és az örvös galambot. elcsodálkozott magában, és örömre vidult a szíve. közelebb lépett a kapuhoz, és megpillantott a ház bejáratán túl egy óriás kertet, benne szolgákat, rabszolgákat, inasokat, kísérőket. és látott még sok mindent, amit csak királyok és császárok körül lehet látni. egy madár életét pedig meg akarta venni a vevő is egészen áron túl volt a\n",
            "1.0\n",
            "\n"
          ],
          "name": "stdout"
        }
      ]
    },
    {
      "cell_type": "code",
      "metadata": {
        "id": "UKs-18O3psv5"
      },
      "source": [
        "#a kimenet kiirasa a jegyzettombbe\n",
        "j=6\n",
        "with open('kimeneti_konyv.txt', 'a+') as file_out:\n",
        "  while j<len(input_lines):\n",
        "    file_out.write(output_lines[j]+\".\"+\"\\n\")\n",
        "    j=j+1"
      ],
      "execution_count": 100,
      "outputs": []
    },
    {
      "cell_type": "code",
      "metadata": {
        "id": "7zAJCIEHo3-p"
      },
      "source": [
        ""
      ],
      "execution_count": 100,
      "outputs": []
    }
  ]
}